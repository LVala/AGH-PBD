{
    "metadata": {
        "kernelspec": {
            "name": "SQL",
            "display_name": "SQL",
            "language": "sql"
        },
        "language_info": {
            "name": "sql",
            "version": ""
        },
        "extensions": {
            "azuredatastudio": {
                "version": 1,
                "views": []
            }
        }
    },
    "nbformat_minor": 2,
    "nbformat": 4,
    "cells": [
        {
            "cell_type": "markdown",
            "source": [
                "#  Zestaw 3.0 - \"Łączenie tabel - JOIN\""
            ],
            "metadata": {
                "azdata_cell_guid": "cbd88a3a-bd0d-41bb-ad85-09aa9cb91c28",
                "extensions": {
                    "azuredatastudio": {
                        "views": []
                    }
                }
            },
            "attachments": {}
        },
        {
            "cell_type": "code",
            "source": [
                "USE Northwind"
            ],
            "metadata": {
                "azdata_cell_guid": "830ec488-d39e-467f-86e3-71792fa58d94",
                "extensions": {
                    "azuredatastudio": {
                        "views": []
                    }
                }
            },
            "outputs": [],
            "execution_count": null
        },
        {
            "cell_type": "markdown",
            "source": [
                "## Ćwiczenie #1\r\n",
                "**1.1 Wybierz nazwy i ceny produktów (baza northwind) o cenie jednostkowej\r\n",
                "pomiędzy 20.00 a 30.00, dla każdego produktu podaj dane adresowe dostawcy**"
            ],
            "metadata": {
                "azdata_cell_guid": "6202badb-9c05-40fd-bb25-5c02ce30a222",
                "extensions": {
                    "azuredatastudio": {
                        "views": []
                    }
                }
            }
        },
        {
            "cell_type": "code",
            "source": [
                "SELECT ProductName, UnitPrice, CompanyName, Address, City, Country \r\n",
                "FROM Products \r\n",
                "INNER JOIN Suppliers ON Products.SupplierID = Suppliers.SupplierID \r\n",
                "WHERE UnitPrice BETWEEN 20.00 AND 30.00"
            ],
            "metadata": {
                "azdata_cell_guid": "78c293f3-3f20-45b2-a004-0d86e1859821",
                "extensions": {
                    "azuredatastudio": {
                        "views": []
                    }
                },
                "tags": []
            },
            "outputs": [],
            "execution_count": null
        },
        {
            "cell_type": "markdown",
            "source": [
                "**1.2 Wybierz nazwy produktów oraz inf. o stanie magazynu dla produktów\r\n",
                "dostarczanych przez firmę ‘Tokyo Traders’**"
            ],
            "metadata": {
                "azdata_cell_guid": "3908487e-45a9-4467-8a7a-e6f812aa40d3",
                "extensions": {
                    "azuredatastudio": {
                        "views": []
                    }
                }
            }
        },
        {
            "cell_type": "code",
            "source": [
                "SELECT ProductName, UnitsInStock \r\n",
                "FROM Products \r\n",
                "INNER JOIN Suppliers ON Products.SupplierID = Suppliers.SupplierID \r\n",
                "WHERE CompanyName = 'Tokyo Traders'"
            ],
            "metadata": {
                "azdata_cell_guid": "446f775d-0950-4673-9e98-271ba8b79c2c",
                "extensions": {
                    "azuredatastudio": {
                        "views": []
                    }
                }
            },
            "outputs": [],
            "execution_count": null
        },
        {
            "cell_type": "markdown",
            "source": [
                "**1.3 Czy są jacyś klienci którzy nie złożyli żadnego zamówienia w 1997 roku, jeśli tak\r\n",
                "to pokaż ich dane adresowe**"
            ],
            "metadata": {
                "azdata_cell_guid": "be6e6137-8345-4621-ac06-29768556eafb",
                "extensions": {
                    "azuredatastudio": {
                        "views": []
                    }
                }
            }
        },
        {
            "cell_type": "code",
            "source": [
                "SELECT CompanyName, Address, City, Country, A.CustomerID\r\n",
                "FROM Customers \r\n",
                "LEFT OUTER JOIN (SELECT CustomerID FROM Orders WHERE YEAR(OrderDate) = 1997) AS A ON Customers.CustomerID = A.CustomerID \r\n",
                "WHERE A.CustomerID IS NULL\r\n",
                "--altrnatywnie\r\n",
                "-- SELECT CompanyName, Address, City, Country, Orders.CustomerID\r\n",
                "-- FROM Customers \r\n",
                "-- LEFT OUTER JOIN Orders ON Customers.CustomerID = Orders.CustomerID AND YEAR(OrderDate) = 1997\r\n",
                "-- WHERE Orders.CustomerID IS NULL"
            ],
            "metadata": {
                "azdata_cell_guid": "bff09928-87ee-472b-b6f8-64be9db1b2c2",
                "extensions": {
                    "azuredatastudio": {
                        "views": []
                    }
                }
            },
            "outputs": [],
            "execution_count": null
        },
        {
            "cell_type": "markdown",
            "source": [
                "**1.4 Wybierz nazwy i numery telefonów dostawców, dostarczających produkty,\r\n",
                "których aktualnie nie ma w magazynie**"
            ],
            "metadata": {
                "azdata_cell_guid": "044d4c6c-037e-4ea7-a5d1-e6c3951cba8d",
                "extensions": {
                    "azuredatastudio": {
                        "views": []
                    }
                }
            }
        },
        {
            "cell_type": "code",
            "source": [
                "SELECT CompanyName, Phone \r\n",
                "FROM Suppliers INNER JOIN Products ON Suppliers.SupplierID = Products.ProductID WHERE UnitsInStock = 0"
            ],
            "metadata": {
                "azdata_cell_guid": "06898004-efdc-4896-b7cd-ba57a59237d7",
                "extensions": {
                    "azuredatastudio": {
                        "views": []
                    }
                },
                "tags": []
            },
            "outputs": [],
            "execution_count": null
        },
        {
            "cell_type": "markdown",
            "source": [
                "## Ćwiczenie #2"
            ],
            "metadata": {
                "azdata_cell_guid": "4b6e5856-ddca-48e6-a2df-3779da475a41",
                "extensions": {
                    "azuredatastudio": {
                        "views": []
                    }
                }
            }
        },
        {
            "cell_type": "code",
            "source": [
                "USE Library"
            ],
            "metadata": {
                "azdata_cell_guid": "255dd309-31fb-43fa-a849-514065cd8f2a",
                "extensions": {
                    "azuredatastudio": {
                        "views": []
                    }
                }
            },
            "outputs": [],
            "execution_count": null
        },
        {
            "cell_type": "markdown",
            "source": [
                "**2.1 Napisz polecenie, które wyświetla listę dzieci będących członkami biblioteki (baza\r\n",
                "library). Interesuje nas imię, nazwisko i data urodzenia dziecka.**"
            ],
            "metadata": {
                "azdata_cell_guid": "29c4c99b-8558-4769-9a15-4095496e6922",
                "extensions": {
                    "azuredatastudio": {
                        "views": []
                    }
                }
            }
        },
        {
            "cell_type": "code",
            "source": [
                "SELECT firstname, lastname, birth_date \r\n",
                "FROM member \r\n",
                "INNER JOIN juvenile ON member.member_no = juvenile.member_no"
            ],
            "metadata": {
                "azdata_cell_guid": "0476dd5c-e053-467d-bc99-608c2dd271ba",
                "extensions": {
                    "azuredatastudio": {
                        "views": []
                    }
                }
            },
            "outputs": [],
            "execution_count": null
        },
        {
            "cell_type": "markdown",
            "source": [
                "**2.2 Napisz polecenie, które podaje tytuły aktualnie wypożyczonych książek**"
            ],
            "metadata": {
                "azdata_cell_guid": "98cc0594-0bfc-4155-a99f-4bd93b107ef8",
                "extensions": {
                    "azuredatastudio": {
                        "views": []
                    }
                }
            }
        },
        {
            "cell_type": "code",
            "source": [
                "SELECT title, due_date \r\n",
                "FROM title \r\n",
                "INNER JOIN loan ON title.title_no = loan.title_no \r\n",
                "WHERE GETDATE() BETWEEN out_date AND due_date"
            ],
            "metadata": {
                "azdata_cell_guid": "6f515ca1-7de2-4239-ad4a-d8eac445bf4b",
                "extensions": {
                    "azuredatastudio": {
                        "views": []
                    }
                }
            },
            "outputs": [],
            "execution_count": null
        },
        {
            "cell_type": "markdown",
            "source": [
                "**2.3 Podaj informacje o karach zapłaconych za przetrzymywanie książki o tytule ‘Tao\r\n",
                "Teh King’. Interesuje nas data oddania książki, ile dni była przetrzymywana i jaką\r\n",
                "zapłacono karę**"
            ],
            "metadata": {
                "azdata_cell_guid": "4b80d673-f2a1-4deb-a5b1-d5618668ddd7",
                "extensions": {
                    "azuredatastudio": {
                        "views": []
                    }
                }
            }
        },
        {
            "cell_type": "code",
            "source": [
                "SELECT due_date, DATEDIFF(DAY, in_date, due_date) AS days_in, fine_paid \r\n",
                "FROM loanhist \r\n",
                "INNER JOIN title ON loanhist.title_no = title.title_no \r\n",
                "WHERE title = 'Tao Teh King' AND fine_paid IS NOT NULL"
            ],
            "metadata": {
                "azdata_cell_guid": "4eb1a74a-2efb-47f5-8ea4-eaac2de9a1f1",
                "extensions": {
                    "azuredatastudio": {
                        "views": []
                    }
                }
            },
            "outputs": [],
            "execution_count": null
        },
        {
            "cell_type": "markdown",
            "source": [
                "**2.4 Napisz polecenie które podaje listę książek (mumery ISBN) zarezerwowanych\r\n",
                "przez osobę o nazwisku: Stephen A. Graff**"
            ],
            "metadata": {
                "azdata_cell_guid": "8993a713-22c6-4a9d-afc4-71343f738ada",
                "extensions": {
                    "azuredatastudio": {
                        "views": []
                    }
                }
            }
        },
        {
            "cell_type": "code",
            "source": [
                "SELECT isbn \r\n",
                "FROM reservation \r\n",
                "INNER JOIN member ON reservation.member_no = member.member_no \r\n",
                "WHERE (firstname + ' ' + middleinitial + ' ' + lastname) = 'Stephen A Graff'"
            ],
            "metadata": {
                "azdata_cell_guid": "ad6d6d6b-8f02-45fd-953b-c9c5329bb45f",
                "extensions": {
                    "azuredatastudio": {
                        "views": []
                    }
                }
            },
            "outputs": [],
            "execution_count": null
        },
        {
            "cell_type": "markdown",
            "source": [
                "## Ćwiczenie #3"
            ],
            "metadata": {
                "azdata_cell_guid": "46c7ad8d-3795-4322-92d4-262c81d3c2f1",
                "extensions": {
                    "azuredatastudio": {
                        "views": []
                    }
                }
            }
        },
        {
            "cell_type": "code",
            "source": [
                "USE Northwind"
            ],
            "metadata": {
                "azdata_cell_guid": "e05c0bb9-f637-4b5d-b6e6-7345e86e4c63",
                "extensions": {
                    "azuredatastudio": {
                        "views": []
                    }
                }
            },
            "outputs": [],
            "execution_count": null
        },
        {
            "cell_type": "markdown",
            "source": [
                "**3.1 Wybierz nazwy i ceny produktów (baza northwind) o cenie jednostkowej\r\n",
                "pomiędzy 20.00 a 30.00, dla każdego produktu podaj dane adresowe dostawcy,\r\n",
                "interesują nas tylko produkty z kategorii ‘Meat/Poultry’**"
            ],
            "metadata": {
                "azdata_cell_guid": "e322d447-3fa7-48c7-971e-9384c1f0c171",
                "extensions": {
                    "azuredatastudio": {
                        "views": []
                    }
                }
            }
        },
        {
            "cell_type": "code",
            "source": [
                "SELECT ProductName, UnitPrice, CompanyName, Address, City, Country \r\n",
                "FROM Products AS P \r\n",
                "INNER JOIN Suppliers AS S ON P.SupplierID = S.SupplierID \r\n",
                "INNER JOIN Categories AS C ON P.CategoryID = P.CategoryID\r\n",
                "WHERE CategoryName = 'Meat/Poultry' AND UnitPrice BETWEEN 20.00 AND 30.00"
            ],
            "metadata": {
                "azdata_cell_guid": "bf508836-0ce5-41f0-a600-0594271e852d",
                "extensions": {
                    "azuredatastudio": {
                        "views": []
                    }
                }
            },
            "outputs": [],
            "execution_count": null
        },
        {
            "cell_type": "markdown",
            "source": [
                "**3.2 Wybierz nazwy i ceny produktów z kategorii ‘Confections’ dla każdego produktu\r\n",
                "podaj nazwę dostawcy.**"
            ],
            "metadata": {
                "azdata_cell_guid": "91c8d135-1bea-43da-9858-251a9728ece7",
                "extensions": {
                    "azuredatastudio": {
                        "views": []
                    }
                }
            }
        },
        {
            "cell_type": "code",
            "source": [
                "SELECT ProductName, UnitPrice, CompanyName\r\n",
                "FROM Products AS P\r\n",
                "INNER JOIN Categories AS C ON P.CategoryID = C.CategoryID\r\n",
                "INNER JOIN Suppliers AS S ON S.SupplierID = P.SupplierID\r\n",
                "WHERE CategoryName = 'Confections'"
            ],
            "metadata": {
                "azdata_cell_guid": "f5e567ff-ad06-4f38-a237-6a1a59631449",
                "extensions": {
                    "azuredatastudio": {
                        "views": []
                    }
                }
            },
            "outputs": [],
            "execution_count": null
        },
        {
            "cell_type": "markdown",
            "source": [
                "**3.3 Wybierz nazwy i numery telefonów klientów , którym w 1997 roku przesyłki\r\n",
                "dostarczała firma ‘United Package’**"
            ],
            "metadata": {
                "azdata_cell_guid": "37054e23-6ac5-414b-876c-73060de4ea8e",
                "extensions": {
                    "azuredatastudio": {
                        "views": []
                    }
                }
            }
        },
        {
            "cell_type": "code",
            "source": [
                "SELECT C.CompanyName, C.Phone\r\n",
                "FROM Customers AS C\r\n",
                "INNER JOIN Orders AS O ON C.CustomerID = O.CustomerID\r\n",
                "INNER JOIN Shippers AS S ON S.ShipperID = O.ShipVia\r\n",
                "WHERE YEAR(OrderDate) = 1997 AND S.CompanyName = 'United Package'"
            ],
            "metadata": {
                "azdata_cell_guid": "a66712c3-9c5e-440b-aed1-75e769a7ef0e",
                "extensions": {
                    "azuredatastudio": {
                        "views": []
                    }
                }
            },
            "outputs": [],
            "execution_count": null
        },
        {
            "cell_type": "markdown",
            "source": [
                "**3.4 Wybierz nazwy i numery telefonów klientów, którzy kupowali produkty z kategorii\r\n",
                "‘Confections’**"
            ],
            "metadata": {
                "azdata_cell_guid": "daefb79c-e064-4fc3-9360-15aa52b8b461",
                "extensions": {
                    "azuredatastudio": {
                        "views": []
                    }
                }
            }
        },
        {
            "cell_type": "code",
            "source": [
                "SELECT DISTINCT C.CompanyName\r\n",
                "FROM Customers AS C\r\n",
                "INNER JOIN Orders AS O ON C.CustomerID = O.CustomerID\r\n",
                "INNER JOIN [Order Details] AS OD ON O.OrderID = OD.OrderID\r\n",
                "INNER JOIN Products AS P ON P.ProductID = OD.ProductID\r\n",
                "INNER JOIN Categories AS CA ON CA.CategoryID = P.CategoryID\r\n",
                "WHERE CategoryName = 'Confections'\r\n",
                "-- zrób to z ćwiczeń z left outer join"
            ],
            "metadata": {
                "azdata_cell_guid": "17de0d06-2e95-4d4d-8d44-ec9d4c612203",
                "extensions": {
                    "azuredatastudio": {
                        "views": []
                    }
                }
            },
            "outputs": [],
            "execution_count": null
        },
        {
            "cell_type": "markdown",
            "source": [
                "## Ćwiczenie #4"
            ],
            "metadata": {
                "azdata_cell_guid": "45893783-0892-4e03-ac72-90ed2ed72a6f",
                "extensions": {
                    "azuredatastudio": {
                        "views": []
                    }
                }
            }
        },
        {
            "cell_type": "code",
            "source": [
                "USE Library"
            ],
            "metadata": {
                "azdata_cell_guid": "79b261b2-d89a-4cf0-a6f4-d94d5f854778",
                "extensions": {
                    "azuredatastudio": {
                        "views": []
                    }
                }
            },
            "outputs": [],
            "execution_count": null
        },
        {
            "cell_type": "markdown",
            "source": [
                "**4.1 Napisz polecenie, które wyświetla listę dzieci będących członkami biblioteki (baza\r\n",
                "library). Interesuje nas imię, nazwisko, data urodzenia dziecka i adres\r\n",
                "zamieszkania dziecka**"
            ],
            "metadata": {
                "azdata_cell_guid": "d0e4e926-227f-4a29-a343-e3642314c923",
                "extensions": {
                    "azuredatastudio": {
                        "views": []
                    }
                }
            }
        },
        {
            "cell_type": "code",
            "source": [
                "SELECT firstname, lastname, birth_date, street, city, state\r\n",
                "FROM juvenile AS J\r\n",
                "INNER JOIN adult AS A ON A.member_no = J.adult_member_no\r\n",
                "INNER JOIN member AS M ON M.member_no = J.member_no"
            ],
            "metadata": {
                "azdata_cell_guid": "22392e59-68ef-4353-81cc-b53fc3d7aed6",
                "extensions": {
                    "azuredatastudio": {
                        "views": []
                    }
                }
            },
            "outputs": [],
            "execution_count": null
        },
        {
            "cell_type": "markdown",
            "source": [
                "**4.2 Napisz polecenie, które wyświetla listę dzieci będących członkami biblioteki (baza\r\n",
                "library). Interesuje nas imię, nazwisko, data urodzenia dziecka, adres\r\n",
                "zamieszkania dziecka oraz imię i nazwisko rodzica**"
            ],
            "metadata": {
                "azdata_cell_guid": "782307db-f5dd-41d8-9f8e-4e1c9b97e9fa",
                "extensions": {
                    "azuredatastudio": {
                        "views": []
                    }
                }
            }
        },
        {
            "cell_type": "code",
            "source": [
                "SELECT MC.firstname, MC.lastname, birth_date, street, city, state, MP.firstname AS parentfirstname, MP.lastname AS parentlastname\r\n",
                "FROM juvenile AS J\r\n",
                "INNER JOIN member AS MC ON J.member_no = MC.member_no\r\n",
                "INNER JOIN adult AS A ON J.adult_member_no = A.member_no\r\n",
                "INNER JOIN Member AS MP ON J.adult_member_no = MP.member_no"
            ],
            "metadata": {
                "azdata_cell_guid": "07f72d28-2c0e-4931-81cd-3abb7a3f341e",
                "extensions": {
                    "azuredatastudio": {
                        "views": []
                    }
                }
            },
            "outputs": [],
            "execution_count": null
        }
    ]
}