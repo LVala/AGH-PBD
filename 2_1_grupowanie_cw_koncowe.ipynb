{
    "metadata": {
        "kernelspec": {
            "name": "SQL",
            "display_name": "SQL",
            "language": "sql"
        },
        "language_info": {
            "name": "sql",
            "version": ""
        },
        "extensions": {
            "azuredatastudio": {
                "version": 1,
                "views": []
            }
        }
    },
    "nbformat_minor": 2,
    "nbformat": 4,
    "cells": [
        {
            "cell_type": "code",
            "source": [
                "SELECT FirstName, LastName, SUM(DATEDIFF(year, HireDate, GETDATE())) AS WorkedYears \r\n",
                "FROM Employees GROUP BY FirstName, LastName"
            ],
            "metadata": {
                "azdata_cell_guid": "4462e99e-f109-4435-8670-369353d607e5"
            },
            "outputs": [
                {
                    "output_type": "display_data",
                    "data": {
                        "text/html": "(9 rows affected)"
                    },
                    "metadata": {}
                },
                {
                    "output_type": "display_data",
                    "data": {
                        "text/html": "Total execution time: 00:00:00.018"
                    },
                    "metadata": {}
                },
                {
                    "output_type": "execute_result",
                    "metadata": {},
                    "execution_count": 11,
                    "data": {
                        "application/vnd.dataresource+json": {
                            "schema": {
                                "fields": [
                                    {
                                        "name": "FirstName"
                                    },
                                    {
                                        "name": "LastName"
                                    },
                                    {
                                        "name": "WorkedTime"
                                    }
                                ]
                            },
                            "data": [
                                {
                                    "0": "Steven",
                                    "1": "Buchanan",
                                    "2": "28"
                                },
                                {
                                    "0": "Laura",
                                    "1": "Callahan",
                                    "2": "27"
                                },
                                {
                                    "0": "Nancy",
                                    "1": "Davolio",
                                    "2": "29"
                                },
                                {
                                    "0": "Anne",
                                    "1": "Dodsworth",
                                    "2": "27"
                                },
                                {
                                    "0": "Andrew",
                                    "1": "Fuller",
                                    "2": "29"
                                },
                                {
                                    "0": "Robert",
                                    "1": "King",
                                    "2": "27"
                                },
                                {
                                    "0": "Janet",
                                    "1": "Leverling",
                                    "2": "29"
                                },
                                {
                                    "0": "Margaret",
                                    "1": "Peacock",
                                    "2": "28"
                                },
                                {
                                    "0": "Michael",
                                    "1": "Suyama",
                                    "2": "28"
                                }
                            ]
                        },
                        "text/html": [
                            "<table>",
                            "<tr><th>FirstName</th><th>LastName</th><th>WorkedTime</th></tr>",
                            "<tr><td>Steven</td><td>Buchanan</td><td>28</td></tr>",
                            "<tr><td>Laura</td><td>Callahan</td><td>27</td></tr>",
                            "<tr><td>Nancy</td><td>Davolio</td><td>29</td></tr>",
                            "<tr><td>Anne</td><td>Dodsworth</td><td>27</td></tr>",
                            "<tr><td>Andrew</td><td>Fuller</td><td>29</td></tr>",
                            "<tr><td>Robert</td><td>King</td><td>27</td></tr>",
                            "<tr><td>Janet</td><td>Leverling</td><td>29</td></tr>",
                            "<tr><td>Margaret</td><td>Peacock</td><td>28</td></tr>",
                            "<tr><td>Michael</td><td>Suyama</td><td>28</td></tr>",
                            "</table>"
                        ]
                    }
                }
            ],
            "execution_count": 11
        },
        {
            "cell_type": "markdown",
            "source": [
                "\\[19:05\\] Robert Marcjan\n",
                "\n",
                "<span style=\"font-size: 28pt;\">1.</span><span style=\"font-size: 28pt; color: black;\">Ile lat przepracował w firmie </span> <span style=\"font-size: 28pt; color: black;\">każdy</span> <span style=\"font-size: 28pt; color: black;\"> z </span> <span style=\"font-size: 28pt; color: black;\">pracowników</span><span style=\"font-size: 28pt; color: black;\">?</span>\n",
                "\n",
                "<span style=\"font-size: 28pt;\">2.</span><span style=\"font-size: 28pt; color: black;\">Policz </span> <span style=\"font-size: 28pt; color: black;\">sume</span><span style=\"font-size: 28pt; color: black;\">̨ lat przepracowanych przez wszystkich </span> <span style=\"font-size: 28pt; color: black;\">pracowników</span> <span style=\"font-size: 28pt; color: black;\"> i </span> <span style=\"font-size: 28pt; color: black;\">średni</span> <span style=\"font-size: 28pt; color: black;\"> czas pracy w </span> <span style=\"font-size: 28pt; color: black;\">firmie</span>\n",
                "\n",
                "<span style=\"font-size: 28pt;\">3.</span><span style=\"font-size: 28pt; color: black;\">Dla </span> <span style=\"font-size: 28pt; color: black;\">każdego</span> <span style=\"font-size: 28pt; color: black;\"> pracownika </span> <span style=\"font-size: 28pt; color: black;\">wyświetl</span> <span style=\"font-size: 28pt; color: black;\">imie</span><span style=\"font-size: 28pt; color: black;\">̨, nazwisko oraz wiek</span>\n",
                "\n",
                "<span style=\"font-size: 28pt;\">4.</span><span style=\"font-size: 28pt; color: black;\">Policz </span> <span style=\"font-size: 28pt; color: black;\">średni</span> <span style=\"font-size: 28pt; color: black;\"> wiek wszystkich </span> <span style=\"font-size: 28pt; color: black;\">pracowników</span>\n",
                "\n",
                "<span style=\"font-size: 28pt;\">5.</span><span style=\"font-size: 28pt; color: black;\">Wyświetl</span> <span style=\"font-size: 28pt; color: black;\"> wszystkich </span> <span style=\"font-size: 28pt; color: black;\">pracowników</span><span style=\"font-size: 28pt; color: black;\">, </span> <span style=\"font-size: 28pt; color: black;\">którzy</span> <span style=\"font-size: 28pt; color: black;\"> mają teraz </span> <span style=\"font-size: 28pt; color: black;\">więcej</span> <span style=\"font-size: 28pt; color: black;\">niz</span><span style=\"font-size: 28pt; color: black;\">̇ 25 lat.</span>\n",
                "\n",
                "<span style=\"font-size: 28pt;\">6.</span><span style=\"font-size: 28pt; color: black;\">Policz </span> <span style=\"font-size: 28pt; color: black;\">średnia</span><span style=\"font-size: 28pt; color: black;\">̨ </span> <span style=\"font-size: 28pt; color: black;\">liczbe</span><span style=\"font-size: 28pt; color: black;\">̨ </span> <span style=\"font-size: 28pt; color: black;\">miesięcy</span> <span style=\"font-size: 28pt; color: black;\"> przepracowanych przez </span> <span style=\"font-size: 28pt; color: black;\">każdego</span> <span style=\"font-size: 28pt; color: black;\"> pracownika</span>\n",
                "\n",
                "<span style=\"font-size: 28pt;\">7.</span><span style=\"font-size: 28pt; color: black;\">Wyświetl</span> <span style=\"font-size: 28pt; color: black;\"> dane wszystkich </span> <span style=\"font-size: 28pt; color: black;\">pracowników</span><span style=\"font-size: 28pt; color: black;\">, </span> <span style=\"font-size: 28pt; color: black;\">którzy</span> <span style=\"font-size: 28pt; color: black;\"> przepracowali w firmie co najmniej </span> <span style=\"font-size: 28pt; color: black;\">320 </span> <span style=\"font-size: 28pt; color: black;\">miesięcy</span><span style=\"font-size: 28pt; color: black;\">, ale nie </span> <span style=\"font-size: 28pt; color: black;\">więcej</span> <span style=\"font-size: 28pt; color: black;\">niz</span><span style=\"font-size: 28pt; color: black;\">̇ 333&nbsp;</span>"
            ],
            "metadata": {
                "azdata_cell_guid": "d8f8053c-1ce6-4a60-aa8f-fb33bd7df662"
            },
            "attachments": {}
        }
    ]
}