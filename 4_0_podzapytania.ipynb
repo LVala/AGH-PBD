{
    "metadata": {
        "kernelspec": {
            "name": "SQL",
            "display_name": "SQL",
            "language": "sql"
        },
        "language_info": {
            "name": "sql",
            "version": ""
        }
    },
    "nbformat_minor": 2,
    "nbformat": 4,
    "cells": [
        {
            "cell_type": "markdown",
            "source": [
                "# Zestaw 4.0 - \"Podzapytania\""
            ],
            "metadata": {
                "azdata_cell_guid": "c347e611-1501-48be-8228-e23dc4bdda56"
            }
        },
        {
            "cell_type": "code",
            "source": [
                "USE Northwind"
            ],
            "metadata": {
                "azdata_cell_guid": "7fd17664-430b-4738-8c94-077659197dc8"
            },
            "outputs": [],
            "execution_count": null
        },
        {
            "cell_type": "markdown",
            "source": [
                "## Ćwiczenie #1"
            ],
            "metadata": {
                "azdata_cell_guid": "95fe758e-666c-42a6-a6da-db22fff1b392"
            }
        }
    ]
}